{
  "nbformat": 4,
  "nbformat_minor": 0,
  "metadata": {
    "kernelspec": {
      "display_name": "Python 3",
      "language": "python",
      "name": "python3"
    },
    "language_info": {
      "codemirror_mode": {
        "name": "ipython",
        "version": 3
      },
      "file_extension": ".py",
      "mimetype": "text/x-python",
      "name": "python",
      "nbconvert_exporter": "python",
      "pygments_lexer": "ipython3",
      "version": "3.7.3"
    },
    "colab": {
      "name": "Clase_1_Yo_Spark-BigMac.ipynb",
      "provenance": [],
      "include_colab_link": true
    }
  },
  "cells": [
    {
      "cell_type": "markdown",
      "metadata": {
        "id": "view-in-github",
        "colab_type": "text"
      },
      "source": [
        "<a href=\"https://colab.research.google.com/github/Jose897/7506-OrganizacionDeDatos/blob/main/Clase_1_Yo_Spark_BigMac.ipynb\" target=\"_parent\"><img src=\"https://colab.research.google.com/assets/colab-badge.svg\" alt=\"Open In Colab\"/></a>"
      ]
    },
    {
      "cell_type": "markdown",
      "metadata": {
        "id": "KLCow8sYSRUL"
      },
      "source": [
        "# Instalamos e importamos librerías"
      ]
    },
    {
      "cell_type": "code",
      "metadata": {
        "id": "caWRNg5SSVG7",
        "colab": {
          "base_uri": "https://localhost:8080/"
        },
        "outputId": "955edbda-8ccb-4601-9cde-698b54184999"
      },
      "source": [
        "!pip install pyspark\n",
        "!pip install -U -q PyDrive\n",
        "!apt update\n",
        "!apt install openjdk-8-jdk-headless -qq\n",
        "#!apt install default-jre\n",
        "#!apt install default-jdk\n",
        "import os\n",
        "os.environ[\"JAVA_HOME\"] = \"/usr/lib/jvm/java-8-openjdk-amd64\""
      ],
      "execution_count": 1,
      "outputs": [
        {
          "output_type": "stream",
          "text": [
            "Collecting pyspark\n",
            "\u001b[?25l  Downloading https://files.pythonhosted.org/packages/45/b0/9d6860891ab14a39d4bddf80ba26ce51c2f9dc4805e5c6978ac0472c120a/pyspark-3.1.1.tar.gz (212.3MB)\n",
            "\u001b[K     |████████████████████████████████| 212.3MB 64kB/s \n",
            "\u001b[?25hCollecting py4j==0.10.9\n",
            "\u001b[?25l  Downloading https://files.pythonhosted.org/packages/9e/b6/6a4fb90cd235dc8e265a6a2067f2a2c99f0d91787f06aca4bcf7c23f3f80/py4j-0.10.9-py2.py3-none-any.whl (198kB)\n",
            "\u001b[K     |████████████████████████████████| 204kB 44.0MB/s \n",
            "\u001b[?25hBuilding wheels for collected packages: pyspark\n",
            "  Building wheel for pyspark (setup.py) ... \u001b[?25l\u001b[?25hdone\n",
            "  Created wheel for pyspark: filename=pyspark-3.1.1-py2.py3-none-any.whl size=212767604 sha256=bf86b4da7effb373ceacc74cab5e2de39025659f46b51b89de1d351d52f64ac9\n",
            "  Stored in directory: /root/.cache/pip/wheels/0b/90/c0/01de724414ef122bd05f056541fb6a0ecf47c7ca655f8b3c0f\n",
            "Successfully built pyspark\n",
            "Installing collected packages: py4j, pyspark\n",
            "Successfully installed py4j-0.10.9 pyspark-3.1.1\n",
            "Get:1 http://security.ubuntu.com/ubuntu bionic-security InRelease [88.7 kB]\n",
            "Get:2 https://cloud.r-project.org/bin/linux/ubuntu bionic-cran40/ InRelease [3,626 B]\n",
            "Ign:3 https://developer.download.nvidia.com/compute/cuda/repos/ubuntu1804/x86_64  InRelease\n",
            "Get:4 http://ppa.launchpad.net/c2d4u.team/c2d4u4.0+/ubuntu bionic InRelease [15.9 kB]\n",
            "Hit:5 http://archive.ubuntu.com/ubuntu bionic InRelease\n",
            "Ign:6 https://developer.download.nvidia.com/compute/machine-learning/repos/ubuntu1804/x86_64  InRelease\n",
            "Get:7 https://developer.download.nvidia.com/compute/cuda/repos/ubuntu1804/x86_64  Release [697 B]\n",
            "Hit:8 https://developer.download.nvidia.com/compute/machine-learning/repos/ubuntu1804/x86_64  Release\n",
            "Get:9 https://developer.download.nvidia.com/compute/cuda/repos/ubuntu1804/x86_64  Release.gpg [836 B]\n",
            "Get:10 http://archive.ubuntu.com/ubuntu bionic-updates InRelease [88.7 kB]\n",
            "Get:11 https://cloud.r-project.org/bin/linux/ubuntu bionic-cran40/ Packages [55.5 kB]\n",
            "Hit:12 http://ppa.launchpad.net/cran/libgit2/ubuntu bionic InRelease\n",
            "Get:13 http://archive.ubuntu.com/ubuntu bionic-backports InRelease [74.6 kB]\n",
            "Get:14 http://ppa.launchpad.net/deadsnakes/ppa/ubuntu bionic InRelease [15.9 kB]\n",
            "Get:15 http://security.ubuntu.com/ubuntu bionic-security/main amd64 Packages [2,119 kB]\n",
            "Get:16 http://security.ubuntu.com/ubuntu bionic-security/universe amd64 Packages [1,410 kB]\n",
            "Get:17 http://security.ubuntu.com/ubuntu bionic-security/restricted amd64 Packages [399 kB]\n",
            "Get:18 http://security.ubuntu.com/ubuntu bionic-security/multiverse amd64 Packages [24.7 kB]\n",
            "Get:19 http://ppa.launchpad.net/graphics-drivers/ppa/ubuntu bionic InRelease [21.3 kB]\n",
            "Ign:21 https://developer.download.nvidia.com/compute/cuda/repos/ubuntu1804/x86_64  Packages\n",
            "Get:21 https://developer.download.nvidia.com/compute/cuda/repos/ubuntu1804/x86_64  Packages [770 kB]\n",
            "Get:22 http://ppa.launchpad.net/c2d4u.team/c2d4u4.0+/ubuntu bionic/main Sources [1,759 kB]\n",
            "Get:23 http://archive.ubuntu.com/ubuntu bionic-updates/universe amd64 Packages [2,182 kB]\n",
            "Get:24 http://ppa.launchpad.net/c2d4u.team/c2d4u4.0+/ubuntu bionic/main amd64 Packages [900 kB]\n",
            "Get:25 http://archive.ubuntu.com/ubuntu bionic-updates/main amd64 Packages [2,550 kB]\n",
            "Get:26 http://archive.ubuntu.com/ubuntu bionic-updates/restricted amd64 Packages [429 kB]\n",
            "Get:27 http://archive.ubuntu.com/ubuntu bionic-updates/multiverse amd64 Packages [31.6 kB]\n",
            "Get:28 http://ppa.launchpad.net/deadsnakes/ppa/ubuntu bionic/main amd64 Packages [40.8 kB]\n",
            "Get:29 http://ppa.launchpad.net/graphics-drivers/ppa/ubuntu bionic/main amd64 Packages [47.2 kB]\n",
            "Fetched 13.0 MB in 4s (3,652 kB/s)\n",
            "Reading package lists... Done\n",
            "Building dependency tree       \n",
            "Reading state information... Done\n",
            "79 packages can be upgraded. Run 'apt list --upgradable' to see them.\n",
            "The following package was automatically installed and is no longer required:\n",
            "  libnvidia-common-460\n",
            "Use 'apt autoremove' to remove it.\n",
            "The following additional packages will be installed:\n",
            "  openjdk-8-jre-headless\n",
            "Suggested packages:\n",
            "  openjdk-8-demo openjdk-8-source libnss-mdns fonts-dejavu-extra\n",
            "  fonts-ipafont-gothic fonts-ipafont-mincho fonts-wqy-microhei\n",
            "  fonts-wqy-zenhei fonts-indic\n",
            "The following NEW packages will be installed:\n",
            "  openjdk-8-jdk-headless openjdk-8-jre-headless\n",
            "0 upgraded, 2 newly installed, 0 to remove and 79 not upgraded.\n",
            "Need to get 36.5 MB of archives.\n",
            "After this operation, 143 MB of additional disk space will be used.\n",
            "Selecting previously unselected package openjdk-8-jre-headless:amd64.\n",
            "(Reading database ... 160690 files and directories currently installed.)\n",
            "Preparing to unpack .../openjdk-8-jre-headless_8u292-b10-0ubuntu1~18.04_amd64.deb ...\n",
            "Unpacking openjdk-8-jre-headless:amd64 (8u292-b10-0ubuntu1~18.04) ...\n",
            "Selecting previously unselected package openjdk-8-jdk-headless:amd64.\n",
            "Preparing to unpack .../openjdk-8-jdk-headless_8u292-b10-0ubuntu1~18.04_amd64.deb ...\n",
            "Unpacking openjdk-8-jdk-headless:amd64 (8u292-b10-0ubuntu1~18.04) ...\n",
            "Setting up openjdk-8-jre-headless:amd64 (8u292-b10-0ubuntu1~18.04) ...\n",
            "update-alternatives: using /usr/lib/jvm/java-8-openjdk-amd64/jre/bin/orbd to provide /usr/bin/orbd (orbd) in auto mode\n",
            "update-alternatives: using /usr/lib/jvm/java-8-openjdk-amd64/jre/bin/servertool to provide /usr/bin/servertool (servertool) in auto mode\n",
            "update-alternatives: using /usr/lib/jvm/java-8-openjdk-amd64/jre/bin/tnameserv to provide /usr/bin/tnameserv (tnameserv) in auto mode\n",
            "Setting up openjdk-8-jdk-headless:amd64 (8u292-b10-0ubuntu1~18.04) ...\n",
            "update-alternatives: using /usr/lib/jvm/java-8-openjdk-amd64/bin/idlj to provide /usr/bin/idlj (idlj) in auto mode\n",
            "update-alternatives: using /usr/lib/jvm/java-8-openjdk-amd64/bin/wsimport to provide /usr/bin/wsimport (wsimport) in auto mode\n",
            "update-alternatives: using /usr/lib/jvm/java-8-openjdk-amd64/bin/jsadebugd to provide /usr/bin/jsadebugd (jsadebugd) in auto mode\n",
            "update-alternatives: using /usr/lib/jvm/java-8-openjdk-amd64/bin/native2ascii to provide /usr/bin/native2ascii (native2ascii) in auto mode\n",
            "update-alternatives: using /usr/lib/jvm/java-8-openjdk-amd64/bin/javah to provide /usr/bin/javah (javah) in auto mode\n",
            "update-alternatives: using /usr/lib/jvm/java-8-openjdk-amd64/bin/hsdb to provide /usr/bin/hsdb (hsdb) in auto mode\n",
            "update-alternatives: using /usr/lib/jvm/java-8-openjdk-amd64/bin/clhsdb to provide /usr/bin/clhsdb (clhsdb) in auto mode\n",
            "update-alternatives: using /usr/lib/jvm/java-8-openjdk-amd64/bin/extcheck to provide /usr/bin/extcheck (extcheck) in auto mode\n",
            "update-alternatives: using /usr/lib/jvm/java-8-openjdk-amd64/bin/schemagen to provide /usr/bin/schemagen (schemagen) in auto mode\n",
            "update-alternatives: using /usr/lib/jvm/java-8-openjdk-amd64/bin/xjc to provide /usr/bin/xjc (xjc) in auto mode\n",
            "update-alternatives: using /usr/lib/jvm/java-8-openjdk-amd64/bin/jhat to provide /usr/bin/jhat (jhat) in auto mode\n",
            "update-alternatives: using /usr/lib/jvm/java-8-openjdk-amd64/bin/wsgen to provide /usr/bin/wsgen (wsgen) in auto mode\n"
          ],
          "name": "stdout"
        }
      ]
    },
    {
      "cell_type": "code",
      "metadata": {
        "id": "PwC4R5OESXY0"
      },
      "source": [
        "from pydrive.auth import GoogleAuth\n",
        "from pydrive.drive import GoogleDrive\n",
        "from google.colab import auth\n",
        "from oauth2client.client import GoogleCredentials\n",
        "from pyspark.sql import *\n",
        "from pyspark.sql.functions import *\n",
        "from pyspark import SparkContext\n",
        "from pyspark.sql import SQLContext\n",
        "import pandas as pd"
      ],
      "execution_count": 2,
      "outputs": []
    },
    {
      "cell_type": "markdown",
      "metadata": {
        "id": "ptmH8m31SdAm"
      },
      "source": [
        "# Autenticamos con Google Drive"
      ]
    },
    {
      "cell_type": "code",
      "metadata": {
        "id": "bo52mNzNSfhP"
      },
      "source": [
        "auth.authenticate_user()\n",
        "gauth = GoogleAuth()\n",
        "gauth.credentials = GoogleCredentials.get_application_default()\n",
        "drive = GoogleDrive(gauth)"
      ],
      "execution_count": 3,
      "outputs": []
    },
    {
      "cell_type": "markdown",
      "metadata": {
        "id": "V2C36mAYShNw"
      },
      "source": [
        "# Bajamos archivo con los datos del índice BigMac"
      ]
    },
    {
      "cell_type": "code",
      "metadata": {
        "id": "rJzd_QCySn37"
      },
      "source": [
        "downloaded = drive.CreateFile({'id':\"1h9Lrqmc4uAkXeC0DJAg3f4VlJLut5C7S\"})\n",
        "downloaded.GetContentFile('bigmac.csv') "
      ],
      "execution_count": 4,
      "outputs": []
    },
    {
      "cell_type": "markdown",
      "metadata": {
        "id": "V3KEZnbSV76n"
      },
      "source": [
        "# Creamos el Spark Context"
      ]
    },
    {
      "cell_type": "code",
      "metadata": {
        "id": "RO1cRZx2V2cm"
      },
      "source": [
        "spark = SparkSession.builder.getOrCreate()\n",
        "sc = spark.sparkContext"
      ],
      "execution_count": 5,
      "outputs": []
    },
    {
      "cell_type": "markdown",
      "metadata": {
        "id": "KvvLU-jJRQFX"
      },
      "source": [
        "## Leemos CSV"
      ]
    },
    {
      "cell_type": "code",
      "metadata": {
        "id": "T6dCiDqIRQFX"
      },
      "source": [
        "#Con header fuerzo a q tome la prmera como header(para indicarle q la primer fila son las columnas) y inferSchema(para q trate de inferir en los datos d las columnas, q detecte de q tipo son)\n",
        "sqlContext = SQLContext(sc)\n",
        "df = sqlContext.read.csv('bigmac.csv', header=True, inferSchema=True)\n",
        "rdd = df.rdd"
      ],
      "execution_count": 6,
      "outputs": []
    },
    {
      "cell_type": "markdown",
      "metadata": {
        "id": "6TI_QOUERQFl"
      },
      "source": [
        "## Cantidad de registros"
      ]
    },
    {
      "cell_type": "code",
      "metadata": {
        "id": "PF356dBURQFm",
        "colab": {
          "base_uri": "https://localhost:8080/"
        },
        "outputId": "09c0875b-0b67-4769-e382-28667321d38c"
      },
      "source": [
        "#Cantidad de registros\n",
        "rdd.count()"
      ],
      "execution_count": 7,
      "outputs": [
        {
          "output_type": "execute_result",
          "data": {
            "text/plain": [
              "1730"
            ]
          },
          "metadata": {
            "tags": []
          },
          "execution_count": 7
        }
      ]
    },
    {
      "cell_type": "markdown",
      "metadata": {
        "id": "cVWqzeqGdaen"
      },
      "source": [
        "## Qué datos tiene cada registro"
      ]
    },
    {
      "cell_type": "code",
      "metadata": {
        "colab": {
          "base_uri": "https://localhost:8080/"
        },
        "id": "t0yedCLvdhwe",
        "outputId": "4cfd43a1-d827-4b01-c02f-72f3783f52ee"
      },
      "source": [
        "#Vemos el primer registro\n",
        "rdd.first()"
      ],
      "execution_count": 23,
      "outputs": [
        {
          "output_type": "execute_result",
          "data": {
            "text/plain": [
              "Row(name='Argentina', iso_a3='ARG', currency_code='ARS', local_price=2.5, dollar_ex=1.0, GDP_dollar=None, date='2000-04-01')"
            ]
          },
          "metadata": {
            "tags": []
          },
          "execution_count": 23
        }
      ]
    },
    {
      "cell_type": "code",
      "metadata": {
        "id": "vqPpsnADRQFo",
        "colab": {
          "base_uri": "https://localhost:8080/"
        },
        "outputId": "a452e652-515d-49c0-a81b-5a94f2e781e4"
      },
      "source": [
        "#Acciones para ver algun registro\n",
        "#Podemos usar la accion  .collect()   //Traemos todo, no es necesario\n",
        "#Podemos usar la accion .first()      //para traer el primero\n",
        "#Podemos usar la accon   take()       // para traer lo q quiera ()\n",
        "rdd.take(5)"
      ],
      "execution_count": 8,
      "outputs": [
        {
          "output_type": "execute_result",
          "data": {
            "text/plain": [
              "[Row(name='Argentina', iso_a3='ARG', currency_code='ARS', local_price=2.5, dollar_ex=1.0, GDP_dollar=None, date='2000-04-01'),\n",
              " Row(name='Australia', iso_a3='AUS', currency_code='AUD', local_price=2.59, dollar_ex=1.68, GDP_dollar=None, date='2000-04-01'),\n",
              " Row(name='Brazil', iso_a3='BRA', currency_code='BRL', local_price=2.95, dollar_ex=1.79, GDP_dollar=None, date='2000-04-01'),\n",
              " Row(name='Britain', iso_a3='GBR', currency_code='GBP', local_price=1.9, dollar_ex=0.632911392, GDP_dollar=None, date='2000-04-01'),\n",
              " Row(name='Canada', iso_a3='CAN', currency_code='CAD', local_price=2.85, dollar_ex=1.47, GDP_dollar=None, date='2000-04-01')]"
            ]
          },
          "metadata": {
            "tags": []
          },
          "execution_count": 8
        }
      ]
    },
    {
      "cell_type": "markdown",
      "metadata": {
        "id": "ZUg1B3kYdsPg"
      },
      "source": [
        "## Qué país y cuando tuvo el mayor valor en USD"
      ]
    },
    {
      "cell_type": "code",
      "metadata": {
        "id": "qF7atM-iZGSo"
      },
      "source": [
        "#Voy a sacar los q tengan dolares en 0 y el   \".cache()\"   guarda el rdd con la accion \".filter\" realizada\n",
        "rdd = rdd.filter(lambda x: x.dollar_ex != 0).cache()"
      ],
      "execution_count": 9,
      "outputs": []
    },
    {
      "cell_type": "code",
      "metadata": {
        "colab": {
          "base_uri": "https://localhost:8080/"
        },
        "id": "ExqYcvkx2xFE",
        "outputId": "5df257ec-66ac-414f-b7af-48e7b2e14909"
      },
      "source": [
        "#Devolvemos el registro \"x\" if (peso/dolar > peso/dolar) else \"y\"    // devuelvo x si cumple y si no devuelvo y\n",
        "rdd.reduce(lambda x,y: x if x.local_price / x.dollar_ex > y.local_price / y.dollar_ex else y)"
      ],
      "execution_count": 24,
      "outputs": [
        {
          "output_type": "execute_result",
          "data": {
            "text/plain": [
              "Row(name='Venezuela', iso_a3='VEN', currency_code='VEF', local_price=39.0, dollar_ex=4.29465, GDP_dollar=None, date='2013-01-01')"
            ]
          },
          "metadata": {
            "tags": []
          },
          "execution_count": 24
        }
      ]
    },
    {
      "cell_type": "code",
      "metadata": {
        "colab": {
          "base_uri": "https://localhost:8080/"
        },
        "id": "iDgb_KJB3fEa",
        "outputId": "acba7007-fcef-4dae-e55d-056df592ba2d"
      },
      "source": [
        "#filtramos a \"VEN\"  y aplico la accion \".reduce\"\n",
        "rdd.filter(lambda x: x.iso_a3 != 'VEN').reduce(lambda x,y: x if x.local_price / x.dollar_ex > y.local_price / y.dollar_ex else y)"
      ],
      "execution_count": 25,
      "outputs": [
        {
          "output_type": "execute_result",
          "data": {
            "text/plain": [
              "Row(name='Norway', iso_a3='NOR', currency_code='NOK', local_price=45.0, dollar_ex=5.41405, GDP_dollar=84443.634, date='2011-07-01')"
            ]
          },
          "metadata": {
            "tags": []
          },
          "execution_count": 25
        }
      ]
    },
    {
      "cell_type": "markdown",
      "metadata": {
        "id": "_zXhWYoZd1S0"
      },
      "source": [
        "## Y el menor?"
      ]
    },
    {
      "cell_type": "code",
      "metadata": {
        "id": "5hC1rWmhZQpj",
        "colab": {
          "base_uri": "https://localhost:8080/"
        },
        "outputId": "2c0abdee-409c-4a36-c409-830f2697eb01"
      },
      "source": [
        "#Realizo la misma accion mero on \"<\"\n",
        "rdd.reduce(lambda x,y: x if x.local_price / x.dollar_ex < y.local_price / y.dollar_ex else y)"
      ],
      "execution_count": 26,
      "outputs": [
        {
          "output_type": "execute_result",
          "data": {
            "text/plain": [
              "Row(name='Saudi Arabia', iso_a3='SAU', currency_code='SAR', local_price=2.4, dollar_ex=3.7502, GDP_dollar=None, date='2004-05-01')"
            ]
          },
          "metadata": {
            "tags": []
          },
          "execution_count": 26
        }
      ]
    },
    {
      "cell_type": "markdown",
      "metadata": {
        "id": "Er_Cz5lod7aQ"
      },
      "source": [
        "## Precios de Argentina"
      ]
    },
    {
      "cell_type": "code",
      "metadata": {
        "colab": {
          "base_uri": "https://localhost:8080/"
        },
        "id": "4zVxAzo-jmEs",
        "outputId": "aa360443-1100-4fa8-a589-ab3ad645be52"
      },
      "source": [
        "#Vemos cuantos registros hay de ARGENTINA para ver si me alcanza en memoria\n",
        "#34 registros esta bien para poder traerlos todos\n",
        "rdd.filter(lambda x: x.iso_a3 == 'ARG').count()"
      ],
      "execution_count": 27,
      "outputs": [
        {
          "output_type": "execute_result",
          "data": {
            "text/plain": [
              "34"
            ]
          },
          "metadata": {
            "tags": []
          },
          "execution_count": 27
        }
      ]
    },
    {
      "cell_type": "code",
      "metadata": {
        "id": "ysHDFD3NZZp4",
        "colab": {
          "base_uri": "https://localhost:8080/"
        },
        "outputId": "c6a7d618-5659-4fc3-b72a-45b64d042e6b"
      },
      "source": [
        "#Filtro por Argentina y \".collect()\" me traigo todos los registros\n",
        "rdd.filter(lambda x: x.iso_a3 == 'ARG').collect()"
      ],
      "execution_count": 13,
      "outputs": [
        {
          "output_type": "execute_result",
          "data": {
            "text/plain": [
              "[Row(name='Argentina', iso_a3='ARG', currency_code='ARS', local_price=2.5, dollar_ex=1.0, GDP_dollar=None, date='2000-04-01'),\n",
              " Row(name='Argentina', iso_a3='ARG', currency_code='ARS', local_price=2.5, dollar_ex=1.0, GDP_dollar=None, date='2001-04-01'),\n",
              " Row(name='Argentina', iso_a3='ARG', currency_code='ARS', local_price=2.5, dollar_ex=3.13, GDP_dollar=None, date='2002-04-01'),\n",
              " Row(name='Argentina', iso_a3='ARG', currency_code='ARS', local_price=4.1, dollar_ex=2.88, GDP_dollar=None, date='2003-04-01'),\n",
              " Row(name='Argentina', iso_a3='ARG', currency_code='ARS', local_price=4.36, dollar_ex=2.95, GDP_dollar=None, date='2004-05-01'),\n",
              " Row(name='Argentina', iso_a3='ARG', currency_code='ARS', local_price=4.75, dollar_ex=2.897, GDP_dollar=None, date='2005-06-01'),\n",
              " Row(name='Argentina', iso_a3='ARG', currency_code='ARS', local_price=4.75, dollar_ex=3.0638, GDP_dollar=None, date='2006-01-01'),\n",
              " Row(name='Argentina', iso_a3='ARG', currency_code='ARS', local_price=7.0, dollar_ex=3.0565, GDP_dollar=None, date='2006-05-01'),\n",
              " Row(name='Argentina', iso_a3='ARG', currency_code='ARS', local_price=8.25, dollar_ex=3.08875, GDP_dollar=None, date='2007-01-01'),\n",
              " Row(name='Argentina', iso_a3='ARG', currency_code='ARS', local_price=8.25, dollar_ex=3.0915, GDP_dollar=None, date='2007-06-01'),\n",
              " Row(name='Argentina', iso_a3='ARG', currency_code='ARS', local_price=11.0, dollar_ex=3.0195, GDP_dollar=None, date='2008-06-01'),\n",
              " Row(name='Argentina', iso_a3='ARG', currency_code='ARS', local_price=11.5, dollar_ex=3.81125, GDP_dollar=None, date='2009-07-01'),\n",
              " Row(name='Argentina', iso_a3='ARG', currency_code='ARS', local_price=7.0, dollar_ex=3.7985, GDP_dollar=None, date='2010-01-01'),\n",
              " Row(name='Argentina', iso_a3='ARG', currency_code='ARS', local_price=14.0, dollar_ex=3.93375, GDP_dollar=None, date='2010-07-01'),\n",
              " Row(name='Argentina', iso_a3='ARG', currency_code='ARS', local_price=20.0, dollar_ex=4.1325, GDP_dollar=9138.177, date='2011-07-01'),\n",
              " Row(name='Argentina', iso_a3='ARG', currency_code='ARS', local_price=20.0, dollar_ex=4.3135, GDP_dollar=9138.177, date='2012-01-01'),\n",
              " Row(name='Argentina', iso_a3='ARG', currency_code='ARS', local_price=19.0, dollar_ex=4.56625, GDP_dollar=9138.177, date='2012-07-01'),\n",
              " Row(name='Argentina', iso_a3='ARG', currency_code='ARS', local_price=19.0, dollar_ex=4.9765, GDP_dollar=10959.082, date='2013-01-01'),\n",
              " Row(name='Argentina', iso_a3='ARG', currency_code='ARS', local_price=21.0, dollar_ex=5.4125, GDP_dollar=10959.082, date='2013-07-01'),\n",
              " Row(name='Argentina', iso_a3='ARG', currency_code='ARS', local_price=21.0, dollar_ex=6.92125, GDP_dollar=10959.082, date='2014-01-01'),\n",
              " Row(name='Argentina', iso_a3='ARG', currency_code='ARS', local_price=21.0, dollar_ex=8.16875, GDP_dollar=11582.48, date='2014-07-01'),\n",
              " Row(name='Argentina', iso_a3='ARG', currency_code='ARS', local_price=28.0, dollar_ex=8.61, GDP_dollar=14708.613, date='2015-01-01'),\n",
              " Row(name='Argentina', iso_a3='ARG', currency_code='ARS', local_price=28.0, dollar_ex=9.135, GDP_dollar=12873.16, date='2015-07-01'),\n",
              " Row(name='Argentina', iso_a3='ARG', currency_code='ARS', local_price=33.0, dollar_ex=13.80925, GDP_dollar=12735.196, date='2016-01-01'),\n",
              " Row(name='Argentina', iso_a3='ARG', currency_code='ARS', local_price=50.0, dollar_ex=14.935, GDP_dollar=13588.846, date='2016-07-01'),\n",
              " Row(name='Argentina', iso_a3='ARG', currency_code='ARS', local_price=55.0, dollar_ex=15.8575, GDP_dollar=13588.846, date='2017-01-01'),\n",
              " Row(name='Argentina', iso_a3='ARG', currency_code='ARS', local_price=70.0, dollar_ex=16.9675, GDP_dollar=12502.822, date='2017-07-01'),\n",
              " Row(name='Argentina', iso_a3='ARG', currency_code='ARS', local_price=75.0, dollar_ex=18.9375, GDP_dollar=12493.909, date='2018-01-01'),\n",
              " Row(name='Argentina', iso_a3='ARG', currency_code='ARS', local_price=75.0, dollar_ex=27.725, GDP_dollar=14466.552, date='2018-07-01'),\n",
              " Row(name='Argentina', iso_a3='ARG', currency_code='ARS', local_price=75.0, dollar_ex=37.455, GDP_dollar=14462.92, date='2019-01-01'),\n",
              " Row(name='Argentina', iso_a3='ARG', currency_code='ARS', local_price=120.0, dollar_ex=41.8045, GDP_dollar=14588.01, date='2019-07-09'),\n",
              " Row(name='Argentina', iso_a3='ARG', currency_code='ARS', local_price=171.0, dollar_ex=60.0656, GDP_dollar=11658.22, date='2020-01-14'),\n",
              " Row(name='Argentina', iso_a3='ARG', currency_code='ARS', local_price=250.0, dollar_ex=71.24065, GDP_dollar=11658.22, date='2020-07-01'),\n",
              " Row(name='Argentina', iso_a3='ARG', currency_code='ARS', local_price=320.0, dollar_ex=85.3736, GDP_dollar=9890.314, date='2021-01-01')]"
            ]
          },
          "metadata": {
            "tags": []
          },
          "execution_count": 13
        }
      ]
    },
    {
      "cell_type": "markdown",
      "metadata": {
        "id": "wprbcx11eBic"
      },
      "source": [
        "### En USD"
      ]
    },
    {
      "cell_type": "code",
      "metadata": {
        "id": "1EK0U7PO6D4v"
      },
      "source": [
        "#\n",
        "arg = rdd.filter(lambda x: x.iso_a3 == 'ARG')"
      ],
      "execution_count": 14,
      "outputs": []
    },
    {
      "cell_type": "code",
      "metadata": {
        "id": "ZWieEP0cZqVx"
      },
      "source": [
        "#Uso map clave-valor calve= fecha, valor (peso/dolar)\n",
        "#Si uso el \".chache()\" tengo q usarlo mas de 1 vez sino no tiene sentido usar el \".chache()\"\n",
        "arg_usd = arg.map(lambda x: (x.date, x.local_price/x.dollar_ex)).cache()"
      ],
      "execution_count": 15,
      "outputs": []
    },
    {
      "cell_type": "code",
      "metadata": {
        "colab": {
          "base_uri": "https://localhost:8080/"
        },
        "id": "P-WyIZce58cQ",
        "outputId": "2c119219-c426-4b5e-a8a9-f2f2686a7f23"
      },
      "source": [
        "arg_usd.collect()"
      ],
      "execution_count": 16,
      "outputs": [
        {
          "output_type": "execute_result",
          "data": {
            "text/plain": [
              "[('2000-04-01', 2.5),\n",
              " ('2001-04-01', 2.5),\n",
              " ('2002-04-01', 0.7987220447284346),\n",
              " ('2003-04-01', 1.423611111111111),\n",
              " ('2004-05-01', 1.4779661016949153),\n",
              " ('2005-06-01', 1.6396272005522956),\n",
              " ('2006-01-01', 1.550362295188981),\n",
              " ('2006-05-01', 2.290201210534925),\n",
              " ('2007-01-01', 2.670983407527317),\n",
              " ('2007-06-01', 2.668607472100922),\n",
              " ('2008-06-01', 3.642987249544627),\n",
              " ('2009-07-01', 3.0173827484421123),\n",
              " ('2010-01-01', 1.842832697117283),\n",
              " ('2010-07-01', 3.558945027009851),\n",
              " ('2011-07-01', 4.839685420447671),\n",
              " ('2012-01-01', 4.636606004404776),\n",
              " ('2012-07-01', 4.160963591568573),\n",
              " ('2013-01-01', 3.8179443383904355),\n",
              " ('2013-07-01', 3.8799076212471135),\n",
              " ('2014-01-01', 3.0341340075853354),\n",
              " ('2014-07-01', 2.5707727620504977),\n",
              " ('2015-01-01', 3.2520325203252036),\n",
              " ('2015-07-01', 3.0651340996168583),\n",
              " ('2016-01-01', 2.3897025544472004),\n",
              " ('2016-07-01', 3.3478406427854033),\n",
              " ('2017-01-01', 3.4683903515686585),\n",
              " ('2017-07-01', 4.1255341093266535),\n",
              " ('2018-01-01', 3.9603960396039604),\n",
              " ('2018-07-01', 2.7051397655545535),\n",
              " ('2019-01-01', 2.002402883460152),\n",
              " ('2019-07-09', 2.8705043715389493),\n",
              " ('2020-01-14', 2.8468874031059372),\n",
              " ('2020-07-01', 3.50923243962541),\n",
              " ('2021-01-01', 3.7482313033537302)]"
            ]
          },
          "metadata": {
            "tags": []
          },
          "execution_count": 16
        }
      ]
    },
    {
      "cell_type": "markdown",
      "metadata": {
        "id": "y99USKG4eH3n"
      },
      "source": [
        "### Mayor"
      ]
    },
    {
      "cell_type": "code",
      "metadata": {
        "id": "C4ij2fOHaMXR",
        "colab": {
          "base_uri": "https://localhost:8080/"
        },
        "outputId": "a80d4ccd-ca98-4bd2-9ab1-4d7c75912595"
      },
      "source": [
        "#reutilizo gracias al \".chache()\"\n",
        "arg_usd.takeOrdered(3, lambda x: -x[1])"
      ],
      "execution_count": 17,
      "outputs": [
        {
          "output_type": "execute_result",
          "data": {
            "text/plain": [
              "[('2011-07-01', 4.839685420447671),\n",
              " ('2012-01-01', 4.636606004404776),\n",
              " ('2012-07-01', 4.160963591568573)]"
            ]
          },
          "metadata": {
            "tags": []
          },
          "execution_count": 17
        }
      ]
    },
    {
      "cell_type": "markdown",
      "metadata": {
        "id": "Ws71uc4HeKc2"
      },
      "source": [
        "### Menor"
      ]
    },
    {
      "cell_type": "code",
      "metadata": {
        "id": "brLvCNO3adKy",
        "colab": {
          "base_uri": "https://localhost:8080/"
        },
        "outputId": "850db483-a74a-4cd1-f512-84180e942d14"
      },
      "source": [
        "#reutilizo gracias al \".chache()\"\n",
        "arg_usd.takeOrdered(3, lambda x: x[1])"
      ],
      "execution_count": 18,
      "outputs": [
        {
          "output_type": "execute_result",
          "data": {
            "text/plain": [
              "[('2002-04-01', 0.7987220447284346),\n",
              " ('2003-04-01', 1.423611111111111),\n",
              " ('2004-05-01', 1.4779661016949153)]"
            ]
          },
          "metadata": {
            "tags": []
          },
          "execution_count": 18
        }
      ]
    },
    {
      "cell_type": "markdown",
      "metadata": {
        "id": "PPxWuM8OePFC"
      },
      "source": [
        "### 5 mayores"
      ]
    },
    {
      "cell_type": "code",
      "metadata": {
        "id": "cgYWwDBzaii2"
      },
      "source": [
        ""
      ],
      "execution_count": 18,
      "outputs": []
    },
    {
      "cell_type": "markdown",
      "metadata": {
        "id": "_bhh75iMeUqP"
      },
      "source": [
        "### 5 menores"
      ]
    },
    {
      "cell_type": "code",
      "metadata": {
        "id": "IauQkLVbeWaP"
      },
      "source": [
        ""
      ],
      "execution_count": 18,
      "outputs": []
    },
    {
      "cell_type": "markdown",
      "metadata": {
        "id": "-MMjMEfBeadI"
      },
      "source": [
        "### Valor promedio"
      ]
    },
    {
      "cell_type": "code",
      "metadata": {
        "id": "d9zip36bbMUN",
        "colab": {
          "base_uri": "https://localhost:8080/"
        },
        "outputId": "9ab45800-f137-49c2-d217-4c21204d4273"
      },
      "source": [
        "arg_usd.map(lambda x: x[1]).reduce(lambda x,y: x+y) / arg_usd.count()"
      ],
      "execution_count": 19,
      "outputs": [
        {
          "output_type": "execute_result",
          "data": {
            "text/plain": [
              "2.9356961998694073"
            ]
          },
          "metadata": {
            "tags": []
          },
          "execution_count": 19
        }
      ]
    },
    {
      "cell_type": "markdown",
      "metadata": {
        "id": "VoA4md8pedqj"
      },
      "source": [
        "## Valores en USA"
      ]
    },
    {
      "cell_type": "code",
      "metadata": {
        "id": "DBUEDaV3bH_k",
        "colab": {
          "base_uri": "https://localhost:8080/"
        },
        "outputId": "54081758-cda5-4b16-f89a-6b1fcb0b0b71"
      },
      "source": [
        "rdd.filter(lambda x: x.iso_a3 == 'USA').map(lambda x: (x.date, x.local_price)).collect()"
      ],
      "execution_count": 20,
      "outputs": [
        {
          "output_type": "execute_result",
          "data": {
            "text/plain": [
              "[('2000-04-01', 2.51),\n",
              " ('2001-04-01', 2.54),\n",
              " ('2002-04-01', 2.49),\n",
              " ('2003-04-01', 2.71),\n",
              " ('2004-05-01', 2.9),\n",
              " ('2005-06-01', 3.06),\n",
              " ('2006-01-01', 3.15),\n",
              " ('2006-05-01', 3.1),\n",
              " ('2007-01-01', 3.22),\n",
              " ('2007-06-01', 3.41),\n",
              " ('2008-06-01', 3.57),\n",
              " ('2009-07-01', 3.57),\n",
              " ('2010-01-01', 3.58),\n",
              " ('2010-07-01', 3.733333333),\n",
              " ('2011-07-01', 4.065),\n",
              " ('2012-01-01', 4.19722),\n",
              " ('2012-07-01', 4.3275),\n",
              " ('2013-01-01', 4.367395833),\n",
              " ('2013-07-01', 4.556666667),\n",
              " ('2014-01-01', 4.624166667),\n",
              " ('2014-07-01', 4.795),\n",
              " ('2015-01-01', 4.79),\n",
              " ('2015-07-01', 4.79),\n",
              " ('2016-01-01', 4.93),\n",
              " ('2016-07-01', 5.04),\n",
              " ('2017-01-01', 5.06),\n",
              " ('2017-07-01', 5.3),\n",
              " ('2018-01-01', 5.28),\n",
              " ('2018-07-01', 5.51),\n",
              " ('2019-01-01', 5.58),\n",
              " ('2019-07-09', 5.74),\n",
              " ('2020-01-14', 5.67),\n",
              " ('2020-07-01', 5.71),\n",
              " ('2021-01-01', 5.66)]"
            ]
          },
          "metadata": {
            "tags": []
          },
          "execution_count": 20
        }
      ]
    },
    {
      "cell_type": "markdown",
      "metadata": {
        "id": "XE8BG2y3el5H"
      },
      "source": [
        "## 10 más caros en promedio durante los 20 años"
      ]
    },
    {
      "cell_type": "code",
      "metadata": {
        "id": "tzC4wmmgbJfs",
        "colab": {
          "base_uri": "https://localhost:8080/"
        },
        "outputId": "43a7566b-2bb0-4b08-a248-38859f375857"
      },
      "source": [
        "#el \"\\\" es para continuar a bajo el\n",
        "#map clave velor,valor   //ES COSTOSO EL MAP EN SPARK\n",
        "# map         // transforma \"name\" como clave y valor serian las columnas (importe,1)\n",
        "# reduceByKey // pasa a tomar como clave la clave de map y pasaria a columna 0 el de importe;\n",
        "#             //suma importes de la columna 0 y la cantidad de valores q tengo en la columna 1\n",
        "# map         //reacomoda la clave y valor, clave-columna x[0]= name y valor-columna x[1]= dupla_columna(contiene importe y cantidad de registros)\n",
        "#             // -> X[1] dupla_columna / x[1][0] el importe y x[1][1] es la cantidad de registros\n",
        "#.takeOdered()//devuelve los 10, \"-\" mayores de la columna x[1] serian los importe en porcentaje\n",
        "rdd.map(lambda x: (x.name, (x.local_price / x.dollar_ex, 1))).reduceByKey(lambda x,y: (x[0]+y[0],x[1]+y[1]))\\\n",
        "   .map(lambda x: (x[0],x[1][0]/x[1][1]))\\\n",
        "   .takeOrdered(10, lambda x:-x[1])"
      ],
      "execution_count": 28,
      "outputs": [
        {
          "output_type": "execute_result",
          "data": {
            "text/plain": [
              "[('Norway', 6.380225767510909),\n",
              " ('Switzerland', 6.1111973283220085),\n",
              " ('Sweden', 5.21455311225687),\n",
              " ('Finland', 5.1629535999708125),\n",
              " ('Italy', 4.7913481249763565),\n",
              " ('France', 4.76472499997649),\n",
              " ('Belgium', 4.749227374984401),\n",
              " ('Denmark', 4.714949725134277),\n",
              " ('Ireland', 4.640071099992816),\n",
              " ('Germany', 4.599525249984549)]"
            ]
          },
          "metadata": {
            "tags": []
          },
          "execution_count": 28
        }
      ]
    },
    {
      "cell_type": "code",
      "metadata": {
        "colab": {
          "base_uri": "https://localhost:8080/"
        },
        "id": "MruUYPIh_Nz5",
        "outputId": "b2f3a1df-4fb9-49a2-e981-af3f112575f4"
      },
      "source": [
        "#el \"\\\" es para continuar a bajo el\n",
        "#map clave velor,valor   //ES COSTOSO EL MAP EN SPARK\n",
        "# map         // transforma \"name\" como clave y valor serian las columnas (importe,1)\n",
        "# reduceByKey // pasa a tomar como clave la clave de map y pasaria a columna 0 el de importe;\n",
        "#             //suma importes de la columna 0 y la cantidad de valores q tengo en la columna 1\n",
        "\n",
        "\n",
        "#.takeOdered()//devuelve los 10, \"-\" mayores de la columna x[1] serian los importe en porcentaje\n",
        "rdd.map(lambda x: (x.name, (x.local_price / x.dollar_ex, 1))).reduceByKey(lambda x,y: (x[0]+y[0],x[1]+y[1]))\\\n",
        "   .takeOrdered(10, lambda x:-x[1][0]/x[1][1])"
      ],
      "execution_count": 29,
      "outputs": [
        {
          "output_type": "execute_result",
          "data": {
            "text/plain": [
              "[('Norway', (191.40677302532728, 30)),\n",
              " ('Switzerland', (207.78070916294828, 34)),\n",
              " ('Sweden', (177.29480581673357, 34)),\n",
              " ('Finland', (103.25907199941625, 20)),\n",
              " ('Italy', (95.82696249952713, 20)),\n",
              " ('France', (95.2944999995298, 20)),\n",
              " ('Belgium', (94.98454749968802, 20)),\n",
              " ('Denmark', (160.3082906545654, 34)),\n",
              " ('Ireland', (92.80142199985632, 20)),\n",
              " ('Germany', (91.99050499969098, 20))]"
            ]
          },
          "metadata": {
            "tags": []
          },
          "execution_count": 29
        }
      ]
    },
    {
      "cell_type": "markdown",
      "metadata": {
        "id": "1eGGX3PDepqJ"
      },
      "source": [
        "## 10 más baratos"
      ]
    },
    {
      "cell_type": "code",
      "metadata": {
        "id": "rO1bXtmXcH75"
      },
      "source": [
        ""
      ],
      "execution_count": 22,
      "outputs": []
    }
  ]
}