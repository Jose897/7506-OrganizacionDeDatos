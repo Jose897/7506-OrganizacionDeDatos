{
  "nbformat": 4,
  "nbformat_minor": 0,
  "metadata": {
    "kernelspec": {
      "display_name": "Python 3",
      "language": "python",
      "name": "python3"
    },
    "language_info": {
      "codemirror_mode": {
        "name": "ipython",
        "version": 3
      },
      "file_extension": ".py",
      "mimetype": "text/x-python",
      "name": "python",
      "nbconvert_exporter": "python",
      "pygments_lexer": "ipython3",
      "version": "3.7.3"
    },
    "colab": {
      "name": "Clase_1_Yo_Spark-BigMac.ipynb",
      "provenance": [],
      "include_colab_link": true
    }
  },
  "cells": [
    {
      "cell_type": "markdown",
      "metadata": {
        "id": "view-in-github",
        "colab_type": "text"
      },
      "source": [
        "<a href=\"https://colab.research.google.com/github/Jose897/7506-OrganizacionDeDatos/blob/main/Clase_1_Yo_Spark_BigMac.ipynb\" target=\"_parent\"><img src=\"https://colab.research.google.com/assets/colab-badge.svg\" alt=\"Open In Colab\"/></a>"
      ]
    },
    {
      "cell_type": "markdown",
      "metadata": {
        "id": "KLCow8sYSRUL"
      },
      "source": [
        "# Instalamos e importamos librerías"
      ]
    },
    {
      "cell_type": "code",
      "metadata": {
        "id": "caWRNg5SSVG7",
        "colab": {
          "base_uri": "https://localhost:8080/"
        },
        "outputId": "2f28cf77-e37d-4f8b-a96b-ef308383ee7a"
      },
      "source": [
        "!pip install pyspark\n",
        "!pip install -U -q PyDrive\n",
        "!apt update\n",
        "!apt install openjdk-8-jdk-headless -qq\n",
        "#!apt install default-jre\n",
        "#!apt install default-jdk\n",
        "import os\n",
        "os.environ[\"JAVA_HOME\"] = \"/usr/lib/jvm/java-8-openjdk-amd64\""
      ],
      "execution_count": null,
      "outputs": [
        {
          "output_type": "stream",
          "text": [
            "Requirement already satisfied: pyspark in /usr/local/lib/python3.7/dist-packages (3.1.1)\n",
            "Requirement already satisfied: py4j==0.10.9 in /usr/local/lib/python3.7/dist-packages (from pyspark) (0.10.9)\n",
            "Hit:1 https://cloud.r-project.org/bin/linux/ubuntu bionic-cran40/ InRelease\n",
            "Ign:2 https://developer.download.nvidia.com/compute/cuda/repos/ubuntu1804/x86_64  InRelease\n",
            "Ign:3 https://developer.download.nvidia.com/compute/machine-learning/repos/ubuntu1804/x86_64  InRelease\n",
            "Hit:4 https://developer.download.nvidia.com/compute/cuda/repos/ubuntu1804/x86_64  Release\n",
            "Hit:5 https://developer.download.nvidia.com/compute/machine-learning/repos/ubuntu1804/x86_64  Release\n",
            "Hit:6 http://ppa.launchpad.net/c2d4u.team/c2d4u4.0+/ubuntu bionic InRelease\n",
            "Hit:7 http://archive.ubuntu.com/ubuntu bionic InRelease\n",
            "Hit:8 http://security.ubuntu.com/ubuntu bionic-security InRelease\n",
            "Hit:9 http://archive.ubuntu.com/ubuntu bionic-updates InRelease\n",
            "Hit:10 http://archive.ubuntu.com/ubuntu bionic-backports InRelease\n",
            "Hit:11 http://ppa.launchpad.net/cran/libgit2/ubuntu bionic InRelease\n",
            "Hit:13 http://ppa.launchpad.net/deadsnakes/ppa/ubuntu bionic InRelease\n",
            "Hit:15 http://ppa.launchpad.net/graphics-drivers/ppa/ubuntu bionic InRelease\n",
            "Reading package lists... Done\n",
            "Building dependency tree       \n",
            "Reading state information... Done\n",
            "42 packages can be upgraded. Run 'apt list --upgradable' to see them.\n",
            "The following package was automatically installed and is no longer required:\n",
            "  libnvidia-common-460\n",
            "Use 'apt autoremove' to remove it.\n",
            "The following additional packages will be installed:\n",
            "  openjdk-8-jre-headless\n",
            "Suggested packages:\n",
            "  openjdk-8-demo openjdk-8-source libnss-mdns fonts-dejavu-extra\n",
            "  fonts-ipafont-gothic fonts-ipafont-mincho fonts-wqy-microhei\n",
            "  fonts-wqy-zenhei fonts-indic\n",
            "The following NEW packages will be installed:\n",
            "  openjdk-8-jdk-headless openjdk-8-jre-headless\n",
            "0 upgraded, 2 newly installed, 0 to remove and 42 not upgraded.\n",
            "Need to get 36.5 MB of archives.\n",
            "After this operation, 143 MB of additional disk space will be used.\n",
            "Selecting previously unselected package openjdk-8-jre-headless:amd64.\n",
            "(Reading database ... 160709 files and directories currently installed.)\n",
            "Preparing to unpack .../openjdk-8-jre-headless_8u292-b10-0ubuntu1~18.04_amd64.deb ...\n",
            "Unpacking openjdk-8-jre-headless:amd64 (8u292-b10-0ubuntu1~18.04) ...\n",
            "Selecting previously unselected package openjdk-8-jdk-headless:amd64.\n",
            "Preparing to unpack .../openjdk-8-jdk-headless_8u292-b10-0ubuntu1~18.04_amd64.deb ...\n",
            "Unpacking openjdk-8-jdk-headless:amd64 (8u292-b10-0ubuntu1~18.04) ...\n",
            "Setting up openjdk-8-jre-headless:amd64 (8u292-b10-0ubuntu1~18.04) ...\n",
            "update-alternatives: using /usr/lib/jvm/java-8-openjdk-amd64/jre/bin/orbd to provide /usr/bin/orbd (orbd) in auto mode\n",
            "update-alternatives: using /usr/lib/jvm/java-8-openjdk-amd64/jre/bin/servertool to provide /usr/bin/servertool (servertool) in auto mode\n",
            "update-alternatives: using /usr/lib/jvm/java-8-openjdk-amd64/jre/bin/tnameserv to provide /usr/bin/tnameserv (tnameserv) in auto mode\n",
            "Setting up openjdk-8-jdk-headless:amd64 (8u292-b10-0ubuntu1~18.04) ...\n",
            "update-alternatives: using /usr/lib/jvm/java-8-openjdk-amd64/bin/idlj to provide /usr/bin/idlj (idlj) in auto mode\n",
            "update-alternatives: using /usr/lib/jvm/java-8-openjdk-amd64/bin/wsimport to provide /usr/bin/wsimport (wsimport) in auto mode\n",
            "update-alternatives: using /usr/lib/jvm/java-8-openjdk-amd64/bin/jsadebugd to provide /usr/bin/jsadebugd (jsadebugd) in auto mode\n",
            "update-alternatives: using /usr/lib/jvm/java-8-openjdk-amd64/bin/native2ascii to provide /usr/bin/native2ascii (native2ascii) in auto mode\n",
            "update-alternatives: using /usr/lib/jvm/java-8-openjdk-amd64/bin/javah to provide /usr/bin/javah (javah) in auto mode\n",
            "update-alternatives: using /usr/lib/jvm/java-8-openjdk-amd64/bin/hsdb to provide /usr/bin/hsdb (hsdb) in auto mode\n",
            "update-alternatives: using /usr/lib/jvm/java-8-openjdk-amd64/bin/clhsdb to provide /usr/bin/clhsdb (clhsdb) in auto mode\n",
            "update-alternatives: using /usr/lib/jvm/java-8-openjdk-amd64/bin/extcheck to provide /usr/bin/extcheck (extcheck) in auto mode\n",
            "update-alternatives: using /usr/lib/jvm/java-8-openjdk-amd64/bin/schemagen to provide /usr/bin/schemagen (schemagen) in auto mode\n",
            "update-alternatives: using /usr/lib/jvm/java-8-openjdk-amd64/bin/xjc to provide /usr/bin/xjc (xjc) in auto mode\n",
            "update-alternatives: using /usr/lib/jvm/java-8-openjdk-amd64/bin/jhat to provide /usr/bin/jhat (jhat) in auto mode\n",
            "update-alternatives: using /usr/lib/jvm/java-8-openjdk-amd64/bin/wsgen to provide /usr/bin/wsgen (wsgen) in auto mode\n"
          ],
          "name": "stdout"
        }
      ]
    },
    {
      "cell_type": "code",
      "metadata": {
        "id": "PwC4R5OESXY0"
      },
      "source": [
        "from pydrive.auth import GoogleAuth\n",
        "from pydrive.drive import GoogleDrive\n",
        "from google.colab import auth\n",
        "from oauth2client.client import GoogleCredentials\n",
        "from pyspark.sql import *\n",
        "from pyspark.sql.functions import *\n",
        "from pyspark import SparkContext\n",
        "from pyspark.sql import SQLContext\n",
        "import pandas as pd"
      ],
      "execution_count": null,
      "outputs": []
    },
    {
      "cell_type": "markdown",
      "metadata": {
        "id": "ptmH8m31SdAm"
      },
      "source": [
        "# Autenticamos con Google Drive"
      ]
    },
    {
      "cell_type": "code",
      "metadata": {
        "id": "bo52mNzNSfhP"
      },
      "source": [
        "auth.authenticate_user()\n",
        "gauth = GoogleAuth()\n",
        "gauth.credentials = GoogleCredentials.get_application_default()\n",
        "drive = GoogleDrive(gauth)"
      ],
      "execution_count": null,
      "outputs": []
    },
    {
      "cell_type": "markdown",
      "metadata": {
        "id": "V2C36mAYShNw"
      },
      "source": [
        "# Bajamos archivo con los datos del índice BigMac"
      ]
    },
    {
      "cell_type": "code",
      "metadata": {
        "id": "rJzd_QCySn37"
      },
      "source": [
        "downloaded = drive.CreateFile({'id':\"1h9Lrqmc4uAkXeC0DJAg3f4VlJLut5C7S\"})\n",
        "downloaded.GetContentFile('bigmac.csv') "
      ],
      "execution_count": null,
      "outputs": []
    },
    {
      "cell_type": "markdown",
      "metadata": {
        "id": "V3KEZnbSV76n"
      },
      "source": [
        "# Creamos el Spark Context"
      ]
    },
    {
      "cell_type": "code",
      "metadata": {
        "id": "RO1cRZx2V2cm"
      },
      "source": [
        "spark = SparkSession.builder.getOrCreate()\n",
        "sc = spark.sparkContext"
      ],
      "execution_count": null,
      "outputs": []
    },
    {
      "cell_type": "markdown",
      "metadata": {
        "id": "KvvLU-jJRQFX"
      },
      "source": [
        "## Leemos CSV"
      ]
    },
    {
      "cell_type": "code",
      "metadata": {
        "id": "T6dCiDqIRQFX"
      },
      "source": [
        "sqlContext = SQLContext(sc)\n",
        "df = sqlContext.read.csv('bigmac.csv', header=True, inferSchema=True)\n",
        "rdd = df.rdd"
      ],
      "execution_count": null,
      "outputs": []
    },
    {
      "cell_type": "markdown",
      "metadata": {
        "id": "6TI_QOUERQFl"
      },
      "source": [
        "## Cantidad de registros"
      ]
    },
    {
      "cell_type": "code",
      "metadata": {
        "id": "PF356dBURQFm",
        "colab": {
          "base_uri": "https://localhost:8080/"
        },
        "outputId": "274acb2c-6edb-405b-a554-631a98dd89d0"
      },
      "source": [
        "rdd.count()"
      ],
      "execution_count": null,
      "outputs": [
        {
          "output_type": "execute_result",
          "data": {
            "text/plain": [
              "1730"
            ]
          },
          "metadata": {
            "tags": []
          },
          "execution_count": 9
        }
      ]
    },
    {
      "cell_type": "markdown",
      "metadata": {
        "id": "cVWqzeqGdaen"
      },
      "source": [
        "## Qué datos tiene cada registro"
      ]
    },
    {
      "cell_type": "code",
      "metadata": {
        "id": "vqPpsnADRQFo",
        "colab": {
          "base_uri": "https://localhost:8080/"
        },
        "outputId": "b317f7e6-cb53-4115-cd1b-e9116219f35f"
      },
      "source": [
        "rdd.take(5)"
      ],
      "execution_count": null,
      "outputs": [
        {
          "output_type": "execute_result",
          "data": {
            "text/plain": [
              "[Row(name='Argentina', iso_a3='ARG', currency_code='ARS', local_price=2.5, dollar_ex=1.0, GDP_dollar=None, date='2000-04-01'),\n",
              " Row(name='Australia', iso_a3='AUS', currency_code='AUD', local_price=2.59, dollar_ex=1.68, GDP_dollar=None, date='2000-04-01'),\n",
              " Row(name='Brazil', iso_a3='BRA', currency_code='BRL', local_price=2.95, dollar_ex=1.79, GDP_dollar=None, date='2000-04-01'),\n",
              " Row(name='Britain', iso_a3='GBR', currency_code='GBP', local_price=1.9, dollar_ex=0.632911392, GDP_dollar=None, date='2000-04-01'),\n",
              " Row(name='Canada', iso_a3='CAN', currency_code='CAD', local_price=2.85, dollar_ex=1.47, GDP_dollar=None, date='2000-04-01')]"
            ]
          },
          "metadata": {
            "tags": []
          },
          "execution_count": 11
        }
      ]
    },
    {
      "cell_type": "markdown",
      "metadata": {
        "id": "ZUg1B3kYdsPg"
      },
      "source": [
        "## Qué país y cuando tuvo el mayor valor en USD"
      ]
    },
    {
      "cell_type": "code",
      "metadata": {
        "id": "qF7atM-iZGSo"
      },
      "source": [
        "rdd = rdd.filter(lambda x: x.dollar_ex != 0).cache()"
      ],
      "execution_count": null,
      "outputs": []
    },
    {
      "cell_type": "code",
      "metadata": {
        "colab": {
          "base_uri": "https://localhost:8080/"
        },
        "id": "ExqYcvkx2xFE",
        "outputId": "60ca4a28-6b54-4215-c687-ce3d9712da4c"
      },
      "source": [
        "rdd.reduce(lambda x,y: x if x.local_price / x.dollar_ex > y.local_price / y.dollar_ex else y)"
      ],
      "execution_count": null,
      "outputs": [
        {
          "output_type": "execute_result",
          "data": {
            "text/plain": [
              "Row(name='Venezuela', iso_a3='VEN', currency_code='VEF', local_price=39.0, dollar_ex=4.29465, GDP_dollar=None, date='2013-01-01')"
            ]
          },
          "metadata": {
            "tags": []
          },
          "execution_count": 13
        }
      ]
    },
    {
      "cell_type": "code",
      "metadata": {
        "colab": {
          "base_uri": "https://localhost:8080/"
        },
        "id": "iDgb_KJB3fEa",
        "outputId": "7c749a62-9898-42df-f840-8f486e062935"
      },
      "source": [
        "rdd.filter(lambda x: x.iso_a3 != 'VEN').reduce(lambda x,y: x if x.local_price / x.dollar_ex > y.local_price / y.dollar_ex else y)"
      ],
      "execution_count": null,
      "outputs": [
        {
          "output_type": "execute_result",
          "data": {
            "text/plain": [
              "Row(name='Norway', iso_a3='NOR', currency_code='NOK', local_price=45.0, dollar_ex=5.41405, GDP_dollar=84443.634, date='2011-07-01')"
            ]
          },
          "metadata": {
            "tags": []
          },
          "execution_count": 14
        }
      ]
    },
    {
      "cell_type": "markdown",
      "metadata": {
        "id": "_zXhWYoZd1S0"
      },
      "source": [
        "## Y el menor?"
      ]
    },
    {
      "cell_type": "code",
      "metadata": {
        "id": "5hC1rWmhZQpj",
        "colab": {
          "base_uri": "https://localhost:8080/"
        },
        "outputId": "65532ce3-629c-41a5-f8a5-5a43d0d8137e"
      },
      "source": [
        "rdd.reduce(lambda x,y: x if x.local_price / x.dollar_ex < y.local_price / y.dollar_ex else y)"
      ],
      "execution_count": null,
      "outputs": [
        {
          "output_type": "execute_result",
          "data": {
            "text/plain": [
              "Row(name='Saudi Arabia', iso_a3='SAU', currency_code='SAR', local_price=2.4, dollar_ex=3.7502, GDP_dollar=None, date='2004-05-01')"
            ]
          },
          "metadata": {
            "tags": []
          },
          "execution_count": 15
        }
      ]
    },
    {
      "cell_type": "markdown",
      "metadata": {
        "id": "Er_Cz5lod7aQ"
      },
      "source": [
        "## Precios de Argentina"
      ]
    },
    {
      "cell_type": "code",
      "metadata": {
        "id": "ysHDFD3NZZp4",
        "colab": {
          "base_uri": "https://localhost:8080/"
        },
        "outputId": "fb896783-e073-4d57-8f34-c881e9b9daba"
      },
      "source": [
        "rdd.filter(lambda x: x.iso_a3 == 'ARG').collect()"
      ],
      "execution_count": null,
      "outputs": [
        {
          "output_type": "execute_result",
          "data": {
            "text/plain": [
              "[Row(name='Argentina', iso_a3='ARG', currency_code='ARS', local_price=2.5, dollar_ex=1.0, GDP_dollar=None, date='2000-04-01'),\n",
              " Row(name='Argentina', iso_a3='ARG', currency_code='ARS', local_price=2.5, dollar_ex=1.0, GDP_dollar=None, date='2001-04-01'),\n",
              " Row(name='Argentina', iso_a3='ARG', currency_code='ARS', local_price=2.5, dollar_ex=3.13, GDP_dollar=None, date='2002-04-01'),\n",
              " Row(name='Argentina', iso_a3='ARG', currency_code='ARS', local_price=4.1, dollar_ex=2.88, GDP_dollar=None, date='2003-04-01'),\n",
              " Row(name='Argentina', iso_a3='ARG', currency_code='ARS', local_price=4.36, dollar_ex=2.95, GDP_dollar=None, date='2004-05-01'),\n",
              " Row(name='Argentina', iso_a3='ARG', currency_code='ARS', local_price=4.75, dollar_ex=2.897, GDP_dollar=None, date='2005-06-01'),\n",
              " Row(name='Argentina', iso_a3='ARG', currency_code='ARS', local_price=4.75, dollar_ex=3.0638, GDP_dollar=None, date='2006-01-01'),\n",
              " Row(name='Argentina', iso_a3='ARG', currency_code='ARS', local_price=7.0, dollar_ex=3.0565, GDP_dollar=None, date='2006-05-01'),\n",
              " Row(name='Argentina', iso_a3='ARG', currency_code='ARS', local_price=8.25, dollar_ex=3.08875, GDP_dollar=None, date='2007-01-01'),\n",
              " Row(name='Argentina', iso_a3='ARG', currency_code='ARS', local_price=8.25, dollar_ex=3.0915, GDP_dollar=None, date='2007-06-01'),\n",
              " Row(name='Argentina', iso_a3='ARG', currency_code='ARS', local_price=11.0, dollar_ex=3.0195, GDP_dollar=None, date='2008-06-01'),\n",
              " Row(name='Argentina', iso_a3='ARG', currency_code='ARS', local_price=11.5, dollar_ex=3.81125, GDP_dollar=None, date='2009-07-01'),\n",
              " Row(name='Argentina', iso_a3='ARG', currency_code='ARS', local_price=7.0, dollar_ex=3.7985, GDP_dollar=None, date='2010-01-01'),\n",
              " Row(name='Argentina', iso_a3='ARG', currency_code='ARS', local_price=14.0, dollar_ex=3.93375, GDP_dollar=None, date='2010-07-01'),\n",
              " Row(name='Argentina', iso_a3='ARG', currency_code='ARS', local_price=20.0, dollar_ex=4.1325, GDP_dollar=9138.177, date='2011-07-01'),\n",
              " Row(name='Argentina', iso_a3='ARG', currency_code='ARS', local_price=20.0, dollar_ex=4.3135, GDP_dollar=9138.177, date='2012-01-01'),\n",
              " Row(name='Argentina', iso_a3='ARG', currency_code='ARS', local_price=19.0, dollar_ex=4.56625, GDP_dollar=9138.177, date='2012-07-01'),\n",
              " Row(name='Argentina', iso_a3='ARG', currency_code='ARS', local_price=19.0, dollar_ex=4.9765, GDP_dollar=10959.082, date='2013-01-01'),\n",
              " Row(name='Argentina', iso_a3='ARG', currency_code='ARS', local_price=21.0, dollar_ex=5.4125, GDP_dollar=10959.082, date='2013-07-01'),\n",
              " Row(name='Argentina', iso_a3='ARG', currency_code='ARS', local_price=21.0, dollar_ex=6.92125, GDP_dollar=10959.082, date='2014-01-01'),\n",
              " Row(name='Argentina', iso_a3='ARG', currency_code='ARS', local_price=21.0, dollar_ex=8.16875, GDP_dollar=11582.48, date='2014-07-01'),\n",
              " Row(name='Argentina', iso_a3='ARG', currency_code='ARS', local_price=28.0, dollar_ex=8.61, GDP_dollar=14708.613, date='2015-01-01'),\n",
              " Row(name='Argentina', iso_a3='ARG', currency_code='ARS', local_price=28.0, dollar_ex=9.135, GDP_dollar=12873.16, date='2015-07-01'),\n",
              " Row(name='Argentina', iso_a3='ARG', currency_code='ARS', local_price=33.0, dollar_ex=13.80925, GDP_dollar=12735.196, date='2016-01-01'),\n",
              " Row(name='Argentina', iso_a3='ARG', currency_code='ARS', local_price=50.0, dollar_ex=14.935, GDP_dollar=13588.846, date='2016-07-01'),\n",
              " Row(name='Argentina', iso_a3='ARG', currency_code='ARS', local_price=55.0, dollar_ex=15.8575, GDP_dollar=13588.846, date='2017-01-01'),\n",
              " Row(name='Argentina', iso_a3='ARG', currency_code='ARS', local_price=70.0, dollar_ex=16.9675, GDP_dollar=12502.822, date='2017-07-01'),\n",
              " Row(name='Argentina', iso_a3='ARG', currency_code='ARS', local_price=75.0, dollar_ex=18.9375, GDP_dollar=12493.909, date='2018-01-01'),\n",
              " Row(name='Argentina', iso_a3='ARG', currency_code='ARS', local_price=75.0, dollar_ex=27.725, GDP_dollar=14466.552, date='2018-07-01'),\n",
              " Row(name='Argentina', iso_a3='ARG', currency_code='ARS', local_price=75.0, dollar_ex=37.455, GDP_dollar=14462.92, date='2019-01-01'),\n",
              " Row(name='Argentina', iso_a3='ARG', currency_code='ARS', local_price=120.0, dollar_ex=41.8045, GDP_dollar=14588.01, date='2019-07-09'),\n",
              " Row(name='Argentina', iso_a3='ARG', currency_code='ARS', local_price=171.0, dollar_ex=60.0656, GDP_dollar=11658.22, date='2020-01-14'),\n",
              " Row(name='Argentina', iso_a3='ARG', currency_code='ARS', local_price=250.0, dollar_ex=71.24065, GDP_dollar=11658.22, date='2020-07-01'),\n",
              " Row(name='Argentina', iso_a3='ARG', currency_code='ARS', local_price=320.0, dollar_ex=85.3736, GDP_dollar=9890.314, date='2021-01-01')]"
            ]
          },
          "metadata": {
            "tags": []
          },
          "execution_count": 17
        }
      ]
    },
    {
      "cell_type": "markdown",
      "metadata": {
        "id": "wprbcx11eBic"
      },
      "source": [
        "### En USD"
      ]
    },
    {
      "cell_type": "code",
      "metadata": {
        "id": "1EK0U7PO6D4v"
      },
      "source": [
        "arg = rdd.filter(lambda x: x.iso_a3 == 'ARG')"
      ],
      "execution_count": null,
      "outputs": []
    },
    {
      "cell_type": "code",
      "metadata": {
        "id": "ZWieEP0cZqVx"
      },
      "source": [
        "arg_usd = arg.map(lambda x: (x.date, x.local_price/x.dollar_ex)).cache()"
      ],
      "execution_count": null,
      "outputs": []
    },
    {
      "cell_type": "code",
      "metadata": {
        "colab": {
          "base_uri": "https://localhost:8080/"
        },
        "id": "P-WyIZce58cQ",
        "outputId": "92a6f888-5d9e-49c3-e56e-e170ff68f980"
      },
      "source": [
        "arg_usd.collect()"
      ],
      "execution_count": null,
      "outputs": [
        {
          "output_type": "execute_result",
          "data": {
            "text/plain": [
              "[('2000-04-01', 2.5),\n",
              " ('2001-04-01', 2.5),\n",
              " ('2002-04-01', 0.7987220447284346),\n",
              " ('2003-04-01', 1.423611111111111),\n",
              " ('2004-05-01', 1.4779661016949153),\n",
              " ('2005-06-01', 1.6396272005522956),\n",
              " ('2006-01-01', 1.550362295188981),\n",
              " ('2006-05-01', 2.290201210534925),\n",
              " ('2007-01-01', 2.670983407527317),\n",
              " ('2007-06-01', 2.668607472100922),\n",
              " ('2008-06-01', 3.642987249544627),\n",
              " ('2009-07-01', 3.0173827484421123),\n",
              " ('2010-01-01', 1.842832697117283),\n",
              " ('2010-07-01', 3.558945027009851),\n",
              " ('2011-07-01', 4.839685420447671),\n",
              " ('2012-01-01', 4.636606004404776),\n",
              " ('2012-07-01', 4.160963591568573),\n",
              " ('2013-01-01', 3.8179443383904355),\n",
              " ('2013-07-01', 3.8799076212471135),\n",
              " ('2014-01-01', 3.0341340075853354),\n",
              " ('2014-07-01', 2.5707727620504977),\n",
              " ('2015-01-01', 3.2520325203252036),\n",
              " ('2015-07-01', 3.0651340996168583),\n",
              " ('2016-01-01', 2.3897025544472004),\n",
              " ('2016-07-01', 3.3478406427854033),\n",
              " ('2017-01-01', 3.4683903515686585),\n",
              " ('2017-07-01', 4.1255341093266535),\n",
              " ('2018-01-01', 3.9603960396039604),\n",
              " ('2018-07-01', 2.7051397655545535),\n",
              " ('2019-01-01', 2.002402883460152),\n",
              " ('2019-07-09', 2.8705043715389493),\n",
              " ('2020-01-14', 2.8468874031059372),\n",
              " ('2020-07-01', 3.50923243962541),\n",
              " ('2021-01-01', 3.7482313033537302)]"
            ]
          },
          "metadata": {
            "tags": []
          },
          "execution_count": 23
        }
      ]
    },
    {
      "cell_type": "markdown",
      "metadata": {
        "id": "y99USKG4eH3n"
      },
      "source": [
        "### Mayor"
      ]
    },
    {
      "cell_type": "code",
      "metadata": {
        "id": "C4ij2fOHaMXR",
        "colab": {
          "base_uri": "https://localhost:8080/"
        },
        "outputId": "eef06f04-6b8d-43b3-a93b-b59d5d4423ab"
      },
      "source": [
        "arg_usd.takeOrdered(3, lambda x: -x[1])"
      ],
      "execution_count": null,
      "outputs": [
        {
          "output_type": "execute_result",
          "data": {
            "text/plain": [
              "[('2011-07-01', 4.839685420447671),\n",
              " ('2012-01-01', 4.636606004404776),\n",
              " ('2012-07-01', 4.160963591568573)]"
            ]
          },
          "metadata": {
            "tags": []
          },
          "execution_count": 24
        }
      ]
    },
    {
      "cell_type": "markdown",
      "metadata": {
        "id": "Ws71uc4HeKc2"
      },
      "source": [
        "### Menor"
      ]
    },
    {
      "cell_type": "code",
      "metadata": {
        "id": "brLvCNO3adKy",
        "colab": {
          "base_uri": "https://localhost:8080/"
        },
        "outputId": "a28981e1-5b25-4c4d-8bde-7d251ddd46aa"
      },
      "source": [
        "arg_usd.takeOrdered(3, lambda x: x[1])"
      ],
      "execution_count": null,
      "outputs": [
        {
          "output_type": "execute_result",
          "data": {
            "text/plain": [
              "[('2002-04-01', 0.7987220447284346),\n",
              " ('2003-04-01', 1.423611111111111),\n",
              " ('2004-05-01', 1.4779661016949153)]"
            ]
          },
          "metadata": {
            "tags": []
          },
          "execution_count": 25
        }
      ]
    },
    {
      "cell_type": "markdown",
      "metadata": {
        "id": "PPxWuM8OePFC"
      },
      "source": [
        "### 5 mayores"
      ]
    },
    {
      "cell_type": "code",
      "metadata": {
        "id": "cgYWwDBzaii2"
      },
      "source": [
        ""
      ],
      "execution_count": null,
      "outputs": []
    },
    {
      "cell_type": "markdown",
      "metadata": {
        "id": "_bhh75iMeUqP"
      },
      "source": [
        "### 5 menores"
      ]
    },
    {
      "cell_type": "code",
      "metadata": {
        "id": "IauQkLVbeWaP"
      },
      "source": [
        ""
      ],
      "execution_count": null,
      "outputs": []
    },
    {
      "cell_type": "markdown",
      "metadata": {
        "id": "-MMjMEfBeadI"
      },
      "source": [
        "### Valor promedio"
      ]
    },
    {
      "cell_type": "code",
      "metadata": {
        "id": "d9zip36bbMUN",
        "colab": {
          "base_uri": "https://localhost:8080/"
        },
        "outputId": "89ce2e9a-4ae5-4102-83ee-9360e6264ec5"
      },
      "source": [
        "arg_usd.map(lambda x: x[1]).reduce(lambda x,y: x+y) / arg_usd.count()"
      ],
      "execution_count": null,
      "outputs": [
        {
          "output_type": "execute_result",
          "data": {
            "text/plain": [
              "2.9356961998694073"
            ]
          },
          "metadata": {
            "tags": []
          },
          "execution_count": 27
        }
      ]
    },
    {
      "cell_type": "markdown",
      "metadata": {
        "id": "VoA4md8pedqj"
      },
      "source": [
        "## Valores en USA"
      ]
    },
    {
      "cell_type": "code",
      "metadata": {
        "id": "DBUEDaV3bH_k",
        "colab": {
          "base_uri": "https://localhost:8080/"
        },
        "outputId": "add9e770-b553-4367-a6e1-3f833cb5ea13"
      },
      "source": [
        "rdd.filter(lambda x: x.iso_a3 == 'USA').map(lambda x: (x.date, x.local_price)).collect()"
      ],
      "execution_count": null,
      "outputs": [
        {
          "output_type": "execute_result",
          "data": {
            "text/plain": [
              "[('2000-04-01', 2.51),\n",
              " ('2001-04-01', 2.54),\n",
              " ('2002-04-01', 2.49),\n",
              " ('2003-04-01', 2.71),\n",
              " ('2004-05-01', 2.9),\n",
              " ('2005-06-01', 3.06),\n",
              " ('2006-01-01', 3.15),\n",
              " ('2006-05-01', 3.1),\n",
              " ('2007-01-01', 3.22),\n",
              " ('2007-06-01', 3.41),\n",
              " ('2008-06-01', 3.57),\n",
              " ('2009-07-01', 3.57),\n",
              " ('2010-01-01', 3.58),\n",
              " ('2010-07-01', 3.733333333),\n",
              " ('2011-07-01', 4.065),\n",
              " ('2012-01-01', 4.19722),\n",
              " ('2012-07-01', 4.3275),\n",
              " ('2013-01-01', 4.367395833),\n",
              " ('2013-07-01', 4.556666667),\n",
              " ('2014-01-01', 4.624166667),\n",
              " ('2014-07-01', 4.795),\n",
              " ('2015-01-01', 4.79),\n",
              " ('2015-07-01', 4.79),\n",
              " ('2016-01-01', 4.93),\n",
              " ('2016-07-01', 5.04),\n",
              " ('2017-01-01', 5.06),\n",
              " ('2017-07-01', 5.3),\n",
              " ('2018-01-01', 5.28),\n",
              " ('2018-07-01', 5.51),\n",
              " ('2019-01-01', 5.58),\n",
              " ('2019-07-09', 5.74),\n",
              " ('2020-01-14', 5.67),\n",
              " ('2020-07-01', 5.71),\n",
              " ('2021-01-01', 5.66)]"
            ]
          },
          "metadata": {
            "tags": []
          },
          "execution_count": 30
        }
      ]
    },
    {
      "cell_type": "markdown",
      "metadata": {
        "id": "XE8BG2y3el5H"
      },
      "source": [
        "## 10 más caros"
      ]
    },
    {
      "cell_type": "code",
      "metadata": {
        "id": "tzC4wmmgbJfs",
        "colab": {
          "base_uri": "https://localhost:8080/"
        },
        "outputId": "fcff6b52-c270-4579-9fb4-8c875645d882"
      },
      "source": [
        "rdd.map(lambda x: (x.name, (x.local_price / x.dollar_ex, 1))).reduceByKey(lambda x,y: (x[0]+y[0],x[1]+y[1]))\\\n",
        "   .map(lambda x: (x[0],x[1][0]/x[1][1]))\\\n",
        "   .takeOrdered(10, lambda x:-x[1])"
      ],
      "execution_count": null,
      "outputs": [
        {
          "output_type": "execute_result",
          "data": {
            "text/plain": [
              "[('Norway', 6.380225767510909),\n",
              " ('Switzerland', 6.1111973283220085),\n",
              " ('Sweden', 5.21455311225687),\n",
              " ('Finland', 5.1629535999708125),\n",
              " ('Italy', 4.7913481249763565),\n",
              " ('France', 4.76472499997649),\n",
              " ('Belgium', 4.749227374984401),\n",
              " ('Denmark', 4.714949725134277),\n",
              " ('Ireland', 4.640071099992816),\n",
              " ('Germany', 4.599525249984549)]"
            ]
          },
          "metadata": {
            "tags": []
          },
          "execution_count": 33
        }
      ]
    },
    {
      "cell_type": "code",
      "metadata": {
        "colab": {
          "base_uri": "https://localhost:8080/"
        },
        "id": "MruUYPIh_Nz5",
        "outputId": "93b88c8c-82b1-46e4-df05-63c0b539e60f"
      },
      "source": [
        "rdd.map(lambda x: (x.name, (x.local_price / x.dollar_ex, 1))).reduceByKey(lambda x,y: (x[0]+y[0],x[1]+y[1]))\\\n",
        "   .takeOrdered(10, lambda x:-x[1][0]/x[1][1])"
      ],
      "execution_count": null,
      "outputs": [
        {
          "output_type": "execute_result",
          "data": {
            "text/plain": [
              "[('Norway', (191.40677302532728, 30)),\n",
              " ('Switzerland', (207.78070916294828, 34)),\n",
              " ('Sweden', (177.29480581673357, 34)),\n",
              " ('Finland', (103.25907199941625, 20)),\n",
              " ('Italy', (95.82696249952713, 20)),\n",
              " ('France', (95.2944999995298, 20)),\n",
              " ('Belgium', (94.98454749968802, 20)),\n",
              " ('Denmark', (160.3082906545654, 34)),\n",
              " ('Ireland', (92.80142199985632, 20)),\n",
              " ('Germany', (91.99050499969098, 20))]"
            ]
          },
          "metadata": {
            "tags": []
          },
          "execution_count": 34
        }
      ]
    },
    {
      "cell_type": "markdown",
      "metadata": {
        "id": "1eGGX3PDepqJ"
      },
      "source": [
        "## 10 más baratos"
      ]
    },
    {
      "cell_type": "code",
      "metadata": {
        "id": "rO1bXtmXcH75"
      },
      "source": [
        ""
      ],
      "execution_count": null,
      "outputs": []
    }
  ]
}